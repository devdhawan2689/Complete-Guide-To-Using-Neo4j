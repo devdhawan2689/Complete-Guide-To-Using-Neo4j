{
 "cells": [
  {
   "cell_type": "markdown",
   "id": "0f52be81",
   "metadata": {},
   "source": [
    "## Importing the 'neo4j' Module "
   ]
  },
  {
   "cell_type": "code",
   "execution_count": 1,
   "id": "8f52349d",
   "metadata": {},
   "outputs": [],
   "source": [
    "from neo4j import GraphDatabase, RoutingControl"
   ]
  },
  {
   "cell_type": "markdown",
   "id": "6ac00739",
   "metadata": {},
   "source": [
    "## Connecting to the Database"
   ]
  },
  {
   "cell_type": "code",
   "execution_count": 2,
   "id": "4eed2280",
   "metadata": {},
   "outputs": [],
   "source": [
    "URI = \"neo4j://localhost:7687\"\n",
    "AUTH = (\"neo4j\", \"password\")"
   ]
  },
  {
   "cell_type": "markdown",
   "id": "b0e2f8bd",
   "metadata": {},
   "source": [
    "## Creating function to add Node \"CEO\" to the Database"
   ]
  },
  {
   "cell_type": "code",
   "execution_count": 3,
   "id": "cc418e3e",
   "metadata": {},
   "outputs": [],
   "source": [
    "def add_ceo(driver, name, age, gender, location, company):\n",
    "    driver.execute_query(\n",
    "        \"CREATE (n:CEO {name: $name, age: $age, gender: $gender, location: $location, company: $company}) \"\n",
    "        \"RETURN n \",\n",
    "        name=name, age=age, gender=gender, location=location, company=company, database_=\"neo4j\",\n",
    "    )"
   ]
  },
  {
   "cell_type": "markdown",
   "id": "be7ffe5c",
   "metadata": {},
   "source": [
    "## Calling the 'add_ceo( )' Function "
   ]
  },
  {
   "cell_type": "code",
   "execution_count": 4,
   "id": "6169fd9b",
   "metadata": {},
   "outputs": [
    {
     "name": "stdout",
     "output_type": "stream",
     "text": [
      "Enter CEO Name - Bill Gates\n",
      "Enter CEO Age - 67\n",
      "Enter CEO Gender - Male\n",
      "Enter CEO Location - United States\n",
      "Enter Company Name - Microsoft\n"
     ]
    }
   ],
   "source": [
    "name = input(\"Enter CEO Name - \")\n",
    "age = input(\"Enter CEO Age - \")\n",
    "gender = input(\"Enter CEO Gender - \")\n",
    "location = input(\"Enter CEO Location - \")\n",
    "company = input(\"Enter Company Name - \")\n",
    "\n",
    "with GraphDatabase.driver(URI, auth=AUTH) as driver:\n",
    "    add_ceo(driver, name, age, gender, location, company)"
   ]
  },
  {
   "cell_type": "code",
   "execution_count": null,
   "id": "d7c6656b",
   "metadata": {},
   "outputs": [],
   "source": []
  }
 ],
 "metadata": {
  "kernelspec": {
   "display_name": "Python 3 (ipykernel)",
   "language": "python",
   "name": "python3"
  },
  "language_info": {
   "codemirror_mode": {
    "name": "ipython",
    "version": 3
   },
   "file_extension": ".py",
   "mimetype": "text/x-python",
   "name": "python",
   "nbconvert_exporter": "python",
   "pygments_lexer": "ipython3",
   "version": "3.10.11"
  }
 },
 "nbformat": 4,
 "nbformat_minor": 5
}
